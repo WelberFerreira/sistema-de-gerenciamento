{
  "nbformat": 4,
  "nbformat_minor": 0,
  "metadata": {
    "colab": {
      "provenance": [],
      "authorship_tag": "ABX9TyMb/nVeRpzvlZ+e3Zto5p4u",
      "include_colab_link": true
    },
    "kernelspec": {
      "name": "python3",
      "display_name": "Python 3"
    },
    "language_info": {
      "name": "python"
    }
  },
  "cells": [
    {
      "cell_type": "markdown",
      "metadata": {
        "id": "view-in-github",
        "colab_type": "text"
      },
      "source": [
        "<a href=\"https://colab.research.google.com/github/WelberFerreira/sistema-de-gerenciamento/blob/master/Extract_chirps_Data_working.ipynb\" target=\"_parent\"><img src=\"https://colab.research.google.com/assets/colab-badge.svg\" alt=\"Open In Colab\"/></a>"
      ]
    },
    {
      "cell_type": "markdown",
      "source": [
        "# **1. Importing Data and Acessing the Drive**\n",
        "\n",
        "\n",
        "\n"
      ],
      "metadata": {
        "id": "EaMwO9-tdYBq"
      }
    },
    {
      "cell_type": "code",
      "source": [
        "from google.colab import drive\n",
        "drive.mount('/content/drive')"
      ],
      "metadata": {
        "id": "VzcDYL0WV1QM",
        "colab": {
          "base_uri": "https://localhost:8080/"
        },
        "outputId": "a294dd0f-d128-4daf-c53a-d90a0a137ece"
      },
      "execution_count": 19,
      "outputs": [
        {
          "output_type": "stream",
          "name": "stdout",
          "text": [
            "Drive already mounted at /content/drive; to attempt to forcibly remount, call drive.mount(\"/content/drive\", force_remount=True).\n"
          ]
        }
      ]
    },
    {
      "cell_type": "code",
      "execution_count": 20,
      "metadata": {
        "id": "NkyaBRpkpPqy"
      },
      "outputs": [],
      "source": [
        "# Import\n",
        "from sklearn.linear_model import LinearRegression\n",
        "import pandas as pd\n",
        "import statsmodels.api as sm\n",
        "import numpy as np\n",
        "import sys\n",
        "from google.colab import drive"
      ]
    },
    {
      "cell_type": "code",
      "source": [
        "# Opening data from CHIRPS\n",
        "chirps_data = pd.read_csv(\"/content/drive/MyDrive/CHIRPS/Brutos.txt\", delim_whitespace=True)"
      ],
      "metadata": {
        "id": "Toa79HK2rEYK"
      },
      "execution_count": 21,
      "outputs": []
    },
    {
      "cell_type": "markdown",
      "source": [
        "# **2. Creating a field to store date**"
      ],
      "metadata": {
        "id": "aAuTSs6Idg3D"
      }
    },
    {
      "cell_type": "code",
      "source": [
        "chirps_data['date'] = pd.to_datetime(chirps_data['Data'], format=\"%d/%m/%Y\")"
      ],
      "metadata": {
        "id": "cHlwszpfc_3J"
      },
      "execution_count": 22,
      "outputs": []
    },
    {
      "cell_type": "markdown",
      "source": [
        "# **3. Creating water year and season groups**"
      ],
      "metadata": {
        "id": "armayJ06HJhI"
      }
    },
    {
      "cell_type": "code",
      "source": [
        "# In this part, the code assign to WY field the correct hydrologic year.\n",
        "chirps_data['WY'] = chirps_data.date.dt.year.where(chirps_data.date.dt.month < 9, chirps_data.date.dt.year + 1)"
      ],
      "metadata": {
        "id": "5NJO8vMvshJm"
      },
      "execution_count": 23,
      "outputs": []
    },
    {
      "cell_type": "code",
      "source": [
        "# In this part, the code assign to Trim field the correct Seasons.\n",
        "def assign_wy(row):\n",
        "    if row.month>=9 and row.month <= 11:\n",
        "        return('SON')\n",
        "    elif row.month == 12 or row.month <= 2:\n",
        "      return('DJF')\n",
        "    elif row.month >= 3 and row.month <= 5:\n",
        "      return('MAM')\n",
        "    else:\n",
        "        return('JJA')\n",
        "\n",
        "chirps_data['Trim'] = chirps_data.date.apply(lambda x: assign_wy(x))"
      ],
      "metadata": {
        "id": "FuO_7gn9TA_Y"
      },
      "execution_count": 24,
      "outputs": []
    },
    {
      "cell_type": "code",
      "source": [
        "# Assigning the index field to field date\n",
        "chirps_data.set_index('date', inplace = True)\n"
      ],
      "metadata": {
        "id": "T1FcS2UXeAQ0"
      },
      "execution_count": 25,
      "outputs": []
    },
    {
      "cell_type": "code",
      "source": [
        "# Retrieving data grouped by season\n",
        "seasons = chirps_data.groupby(['Id', 'WY', pd.Grouper(key='Trim')])\n",
        "# Retrieving data grouped by water year\n",
        "water_years = chirps_data.groupby(['Id', pd.Grouper(key='WY')])"
      ],
      "metadata": {
        "id": "WB146DhAY16M"
      },
      "execution_count": 26,
      "outputs": []
    },
    {
      "cell_type": "code",
      "source": [
        "#display(seasons.precipitation.sum().to_string())"
      ],
      "metadata": {
        "id": "m42LHdXiSHif"
      },
      "execution_count": null,
      "outputs": []
    },
    {
      "cell_type": "code",
      "source": [
        "#display(water_years.precipitation.sum().to_string())"
      ],
      "metadata": {
        "id": "XybCWlT3b_T6"
      },
      "execution_count": null,
      "outputs": []
    },
    {
      "cell_type": "code",
      "source": [
        "# Saving water year data\n",
        "sys.path.insert(0,'/content/drive/MyDrive/CHIRPS/')\n",
        "result = open(\"/content/drive/MyDrive/CHIRPS/TotalAnual.csv\", \"w+\")\n"
      ],
      "metadata": {
        "id": "QDTwd-_3R8Pg"
      },
      "execution_count": 29,
      "outputs": []
    },
    {
      "cell_type": "markdown",
      "source": [
        "# **4. Generating csv file to use in the trending test**"
      ],
      "metadata": {
        "id": "7Mat0xdVA9Wo"
      }
    },
    {
      "cell_type": "code",
      "source": [
        "# Looping through the data in order to transform the data to trending analysis\n",
        "# format. Using just Water Year\n",
        "rainfall_water_year = water_years.precipitation.sum() # Total annual rainfall\n",
        "\n",
        "years = chirps_data['WY'].unique()\n",
        "n_years = len(years)\n",
        "codes = chirps_data['Id'].unique()\n",
        "\n",
        "\n",
        "for i in range(len(codes)): # Looping through the IDs\n",
        "  if i == 0:\n",
        "    result.write(\"Years\")\n",
        "    result.write(\";\")\n",
        "    result.write(str(codes[i]))\n",
        "    result.write(\";\")\n",
        "\n",
        "  elif i == (len(codes) - 1):\n",
        "    result.write(str(codes[i]))\n",
        "    result.write(\"\\n\")\n",
        "\n",
        "  else:\n",
        "    result.write(str(codes[i]))\n",
        "    result.write(\";\")\n",
        "\n",
        "\n",
        "for i in range(n_years): # Looping through the years\n",
        "  k = i\n",
        "  #print(years[i])\n",
        "  result.write(str(years[i]))\n",
        "  result.write(\";\")\n",
        "  for j in range(len(codes)): # Looping through the IDs\n",
        "\n",
        "    try:\n",
        "      result.write(str(round(rainfall_water_year.iloc[k],2)))\n",
        "      #print(simple_data.iloc[k])\n",
        "\n",
        "    except:\n",
        "      result.write(str(\"Null\"))\n",
        "\n",
        "    if j != (len(codes) - 1):\n",
        "      result.write(\";\")\n",
        "    k+= (n_years)\n",
        "\n",
        "  result.write(\"\\n\")\n",
        "\n",
        "\n",
        "result.close()"
      ],
      "metadata": {
        "id": "BwPOj15G4AyY",
        "colab": {
          "base_uri": "https://localhost:8080/"
        },
        "outputId": "537b34cc-44aa-4f1e-8edc-10aa647fb918"
      },
      "execution_count": 38,
      "outputs": [
        {
          "output_type": "stream",
          "name": "stdout",
          "text": [
            "Id   WY  \n",
            "1    1981     780.229368\n",
            "     1982    1839.811655\n",
            "     1983    1675.899403\n",
            "     1984    1572.938999\n",
            "     1985    1354.237828\n",
            "                ...     \n",
            "240  2017    1218.696563\n",
            "     2018    1419.372295\n",
            "     2019    1663.816262\n",
            "     2020    1518.656443\n",
            "     2021     579.321007\n",
            "Name: precipitation, Length: 9840, dtype: float64\n"
          ]
        }
      ]
    },
    {
      "cell_type": "code",
      "source": [
        "# Looping through the data in order to transform the data to trending analysis\n",
        "# format. Using Seasons\n",
        "\n",
        "seasons_names = chirps_data['Trim'].unique()\n",
        "\n",
        "for season in seasons_names:\n",
        "    file_name = \"/content/drive/MyDrive/CHIRPS/Results/Total_\" + season + \".csv\"\n",
        "    result_season = open(file_name, \"w+\")\n",
        "\n",
        "    season_data = chirps_data[chirps_data[\"Trim\"] == season]\n",
        "    data_temp = season_data.groupby(['Id', 'WY', pd.Grouper(key='Trim')])\n",
        "    #data_temp = season_data.groupby(['Id', pd.Grouper(key='WY')])\n",
        "    seasons_data_total = data_temp.precipitation.sum()\n",
        "\n",
        "    # seasons_data_total.index Contains the index (code, year, season)\n",
        "    # in order to get number of years we need to use 1 in brackets\n",
        "    data_points = len(seasons_data_total.index.unique(1))# number of years\n",
        "\n",
        "    for i in range(len(codes)): # Looping through the IDs in order to create\n",
        "                                # the header\n",
        "      if i == 0:\n",
        "        result_season.write(\"Years\")\n",
        "        result_season.write(\";\")\n",
        "        result_season.write(str(codes[i]))\n",
        "        result_season.write(\";\")\n",
        "\n",
        "      elif i == (len(codes) - 1):\n",
        "        result_season.write(str(codes[i]))\n",
        "        result_season.write(\"\\n\")\n",
        "\n",
        "      else:\n",
        "        result_season.write(str(codes[i]))\n",
        "        result_season.write(\";\")\n",
        "\n",
        "    for n in range(data_points): # Looping through the years\n",
        "      k = n\n",
        "\n",
        "      # in order to get the current year we need to use 1 in brackets\n",
        "      result_season.write(str(seasons_data_total.index[n][1]))\n",
        "\n",
        "      result_season.write(\";\")\n",
        "\n",
        "      for j in range(len(codes)): # Looping through the IDs\n",
        "        result_season.write(str(round(seasons_data_total.iloc[k],2)))\n",
        "\n",
        "        if j != (len(codes) - 1):\n",
        "          result_season.write(\";\")\n",
        "\n",
        "        k+= (data_points) # jump to the next year\n",
        "\n",
        "      result_season.write(\"\\n\")\n",
        "\n",
        "\n",
        "    result_season.close()"
      ],
      "metadata": {
        "id": "suIqs3MgE1l4"
      },
      "execution_count": null,
      "outputs": []
    }
  ]
}