{
  "nbformat": 4,
  "nbformat_minor": 0,
  "metadata": {
    "colab": {
      "provenance": [],
      "include_colab_link": true
    },
    "kernelspec": {
      "name": "python3",
      "display_name": "Python 3"
    },
    "language_info": {
      "name": "python"
    }
  },
  "cells": [
    {
      "cell_type": "markdown",
      "metadata": {
        "id": "view-in-github",
        "colab_type": "text"
      },
      "source": [
        "<a href=\"https://colab.research.google.com/github/WelberFerreira/sistema-de-gerenciamento/blob/master/Trend_Test_CHIRPS.ipynb\" target=\"_parent\"><img src=\"https://colab.research.google.com/assets/colab-badge.svg\" alt=\"Open In Colab\"/></a>"
      ]
    },
    {
      "cell_type": "code",
      "source": [
        "from google.colab import drive\n",
        "drive.mount('/content/drive')"
      ],
      "metadata": {
        "id": "G-4E_nOV2RWm",
        "colab": {
          "base_uri": "https://localhost:8080/"
        },
        "outputId": "4ecce394-12d3-4e32-8d73-6b418390a5d7"
      },
      "execution_count": 29,
      "outputs": [
        {
          "output_type": "stream",
          "name": "stdout",
          "text": [
            "Drive already mounted at /content/drive; to attempt to forcibly remount, call drive.mount(\"/content/drive\", force_remount=True).\n"
          ]
        }
      ]
    },
    {
      "cell_type": "markdown",
      "source": [
        "#Source\n",
        "http://support.sas.com/kb/33/092.html\n",
        "Mendenhall, Scheaffer, and Wackerly (1986), Mathematical Statistics with Applications, 3rd Ed., Duxbury Press, CA.\n",
        "\n",
        "Wald, A. and Wolfowitz, J. (1940), \"On a test whether two samples are from the same population,\" Ann. Math Statist. 11, 147-162"
      ],
      "metadata": {
        "id": "CoWsGE3uZBse"
      }
    },
    {
      "cell_type": "markdown",
      "source": [
        "# **1. Importing Libraries**"
      ],
      "metadata": {
        "id": "5--Lo6fF6HOl"
      }
    },
    {
      "cell_type": "code",
      "source": [
        "import wald_wolowitz_cox\n",
        "import mannKendal\n",
        "import math\n",
        "import pandas as pd\n",
        "from scipy.stats import binom\n",
        "from scipy import stats\n",
        "import sys\n",
        "import os\n",
        "\n",
        "sys.path.insert(0,'/content/drive/MyDrive/CHIRPS/testes')"
      ],
      "metadata": {
        "id": "MB013bhX4ZCR"
      },
      "execution_count": 30,
      "outputs": []
    },
    {
      "cell_type": "markdown",
      "source": [
        "# **2. Cox Test Function**"
      ],
      "metadata": {
        "id": "xnp0NAfeWvi3"
      }
    },
    {
      "cell_type": "code",
      "source": [
        "def Cox_test(sef_of_values, alpha):\n",
        "    # Source: http://statistic-on-air.blogspot.com/2009/08/trend-analysis-with-cox-stuart-test-in.html\n",
        "    n = int(len(sef_of_values))\n",
        "\n",
        "    #cust_even\n",
        "    if n%2!=0: #deleting central element\n",
        "        middle = math.trunc(n/2)\n",
        "        del sef_of_values[middle]\n",
        "        n=n-1\n",
        "\n",
        "    # Divide in 2 sets\n",
        "    fHalf = sef_of_values[:(int(n/2))]\n",
        "    sHalf = sef_of_values[(int(n/2)):]\n",
        "\n",
        "    difference = [a_i - b_i for a_i, b_i in zip(fHalf, sHalf)]\n",
        "\n",
        "    neg = len(list(filter(lambda x: (x < 0), difference)))\n",
        "    zero = len(list(filter(lambda x: (x == 0), difference)))\n",
        "    pos  = len(list(filter(lambda x: (x > 0), difference)))\n",
        "\n",
        "    p = neg+pos\n",
        "\n",
        "    if neg < pos:\n",
        "        smaller_signal = neg\n",
        "    else:\n",
        "        smaller_signal = pos\n",
        "\n",
        "    #u = norm.ppf(1-0.05/2)\n",
        "\n",
        "    cdf = binom.cdf(smaller_signal, p, alpha*10)\n",
        "\n",
        "    Hypo = \" \"\n",
        "    alpha = alpha\n",
        "    if cdf < alpha:\n",
        "        if neg > pos:\n",
        "            Hypo = \"increasing\"\n",
        "        else:\n",
        "            Hypo = \"decreasing\"\n",
        "    else:\n",
        "        Hypo = \"no trend\"\n",
        "\n",
        "\n",
        "    return(cdf, Hypo, pos, neg)\n"
      ],
      "metadata": {
        "id": "MNT1ctfV60Cb"
      },
      "execution_count": 31,
      "outputs": []
    },
    {
      "cell_type": "markdown",
      "source": [
        "# **3. Obtaining Paths**"
      ],
      "metadata": {
        "id": "jpNaVtEOaIcW"
      }
    },
    {
      "cell_type": "code",
      "execution_count": 32,
      "metadata": {
        "id": "Nusij-s6xEie"
      },
      "outputs": [],
      "source": [
        "# folder path\n",
        "dir_path = r'/content/drive/MyDrive/CHIRPS/Results'\n",
        "result_path = r'/content/drive/MyDrive/CHIRPS'\n",
        "output_folder = os.path.join(result_path, \"Trend_Results\")\n",
        "\n",
        "# list to store files\n",
        "arquivos = []\n",
        "\n",
        "# Iterate directory\n",
        "for path in os.listdir(dir_path):\n",
        "    # check if current path is a file\n",
        "    if os.path.isfile(os.path.join(dir_path, path)):\n",
        "        arquivos.append(path)"
      ]
    },
    {
      "cell_type": "markdown",
      "source": [
        "# **4. Applying Trend Tests**"
      ],
      "metadata": {
        "id": "IaB5Xtx9ZID0"
      }
    },
    {
      "cell_type": "code",
      "source": [
        "for arquivo in arquivos:\n",
        "\n",
        "        input_file = os.path.join(dir_path, arquivo)\n",
        "        df = pd.read_csv(input_file, sep=';')\n",
        "\n",
        "        result = \"result_\" + arquivo\n",
        "        output_file = os.path.join(output_folder, result)\n",
        "\n",
        "        result = open(output_file, \"w+\")\n",
        "\n",
        "        #retriving the header\n",
        "        #header = list(df.columns.values)\n",
        "        header = df.columns.values.tolist()\n",
        "        print (header)\n",
        "        header.pop(0)\n",
        "\n",
        "\n",
        "        #Loop into the columns\n",
        "        print (\"Test de Mann-Kendall, Wald-Wolfowitz, Cox-Stuart and Spearman\")\n",
        "        alfa_ = 0.05\n",
        "\n",
        "        result.write(\"Station,n,Trend_MK, boolean_MK,z_MK,p_MK,z_WW,p_1_WW, \\\n",
        "        Trend_1_WW, p_2_WW, Trend_2_WW, Direction_WW,p_cox,Trend,\\\n",
        "                     Positive_values_cox,Negative_values_cox,rho,p_rho, Trend\")\n",
        "        result.write(\"\\n\")\n",
        "\n",
        "        for col in header:\n",
        "\n",
        "                # Mann-Kendall Test\n",
        "                trend = df[col] #retrieving the column\n",
        "                test_trend,h,p,z = mannKendal.mk_test(trend,alpha=alfa_)\n",
        "                a = \"{},{},{},{},{:.5f},{:.5f}\".format(col,trend.shape[0],\n",
        "                                                       test_trend, h,z,p)\n",
        "                result.write(a)\n",
        "\n",
        "                #Wald-Wolfowitz test\n",
        "                z,p_1Tail,trend_1,p_2Tail,trend_2,direction = wald_wolowitz_cox.WW_test(trend,alfa_)\n",
        "                b = \",{:.5f},{:.5f},{},{:.5f},{},{}\".format(z,p_1Tail, trend_1,p_2Tail,trend_2,direction)\n",
        "                result.write(b)\n",
        "\n",
        "                #Cox-Stuart test\n",
        "                p_value, trend_information, pos, neg = Cox_test(trend,alfa_)\n",
        "                c = \",{:.5f},{},{},{}\".format(p_value, trend_information,pos,neg)\n",
        "                result.write(c)\n",
        "\n",
        "                #Spearman Test\n",
        "                n = len(trend)\n",
        "                idx = [i+1 for i in range(n)]\n",
        "                rho,p_rho = stats.spearmanr(trend,idx,axis=0)\n",
        "                if p_rho < alfa_:\n",
        "                        trend_rho = \"Trending\"\n",
        "                else:\n",
        "                        trend_rho = \"No Trend\"\n",
        "                d = \",{:.5f},{:.5f},{}\\n\".format(rho,p_rho, trend_rho)\n",
        "                result.write(d)\n",
        "\n",
        "        result.close()"
      ],
      "metadata": {
        "id": "dAzEIQTz6xtz"
      },
      "execution_count": null,
      "outputs": []
    }
  ]
}